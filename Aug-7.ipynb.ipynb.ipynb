{
 "cells": [
  {
   "cell_type": "markdown",
   "id": "916a9fac-1fff-4f17-ae60-f96c62d20a55",
   "metadata": {},
   "source": [
    "### Code for Link Prediction in Bee-Flower Network (Bipartite Network)"
   ]
  },
  {
   "cell_type": "code",
   "execution_count": 269,
   "id": "87090176-9f55-468b-8ac9-a6d71f94b42a",
   "metadata": {},
   "outputs": [],
   "source": [
    "##### Import Needed Libraries\n",
    "import math\n",
    "import numpy as np\n",
    "import random\n",
    "import networkx as nx\n",
    "from numpy.linalg import matrix_rank\n",
    "from networkx.algorithms import bipartite\n",
    "from sklearn.metrics import roc_auc_score"
   ]
  },
  {
   "cell_type": "code",
   "execution_count": 270,
   "id": "19015306-199f-4ca5-93fe-ad197b7d2c4b",
   "metadata": {},
   "outputs": [],
   "source": [
    "##### Hyper Parameters\n",
    "##### Number of time-steps (shown by num_graphs), number of bees as the first partite, number of flowers as the second partite\n",
    "##### History length\n",
    "##### Based on the structure of our network, we consider odd time-steps as history if we are intended to predict an odd\n",
    "##### time-step and even history for predicting an even time-step as the last time-step\n",
    "num_graphs = 30\n",
    "num_bees = 64\n",
    "num_flowers = 16\n",
    "history = 3\n",
    "all_nodes = num_bees + num_flowers\n",
    "teta = 0.3"
   ]
  },
  {
   "cell_type": "code",
   "execution_count": 271,
   "id": "b403bc2b-5e2e-4cae-8a67-f239c3ab70f8",
   "metadata": {},
   "outputs": [],
   "source": [
    "##### Function to compute low-rank representation of a given matrix\n",
    "def low_rank_approx(SVD=None, A=None, r=1):\n",
    "    \"\"\"\n",
    "    Computes an r-rank approximation of a matrix\n",
    "    given the component u, s, and v of it's SVD\n",
    "    Requires: numpy\n",
    "    \"\"\"\n",
    "    if not SVD:\n",
    "        SVD = np.linalg.svd(A, full_matrices=False)\n",
    "    u, s, v = SVD\n",
    "    Ar = np.zeros((len(u), len(v)))\n",
    "    for i in range(r):\n",
    "        Ar += s[i] * np.outer(u.T[i], v[i])\n",
    "    return Ar"
   ]
  },
  {
   "cell_type": "code",
   "execution_count": 272,
   "id": "89ddebde-bde5-4acd-ac4f-9e1646819767",
   "metadata": {},
   "outputs": [],
   "source": [
    "##### Graph\n",
    "def graph_cons(num_bees, num_flowers, num_graphs):\n",
    "    bees = [i+1000 for i in range(num_bees)]\n",
    "    flow = [i for i in range(num_flowers)]\n",
    "\n",
    "    visits = [[-1 for i in range(num_bees)] for j in range(num_graphs)] \n",
    "\n",
    "    c = 0\n",
    "    g = [nx.Graph() for i in range(num_graphs)]\n",
    "    for c in range(num_graphs):\n",
    "        g[c].add_nodes_from(bees, bipartite=0)\n",
    "        g[c].add_nodes_from(flow, bipartite=1)\n",
    "    \n",
    "    for i in range(num_bees):\n",
    "        temp = random.randint(0,num_flowers-1)\n",
    "        visits[0][i] = temp\n",
    "        g[0].add_edge(bees[i], visits[0][i]) \n",
    "    \n",
    "    for i in range(num_bees):\n",
    "        temp1 = [j for j in range(num_flowers)]\n",
    "        temp1.remove(visits[0][i])\n",
    "        temp2 = random.randint(0,num_flowers-2)\n",
    "        temp3 = temp1[temp2]\n",
    "        visits[1][i] = temp3\n",
    "        g[1].add_edge(bees[i], visits[1][i])\n",
    "    \n",
    "    for counter in range(num_graphs-2):\n",
    "        c = counter + 2\n",
    "        for i in range(num_bees):\n",
    "            t1 = visits[c-1][i]\n",
    "            t2 = list(g[c-1].neighbors(t1))\n",
    "            t2.remove(bees[i])\n",
    "            control = 0\n",
    "            if len(t2)>0:\n",
    "                t3 = []\n",
    "                for j in t2:\n",
    "                    t3.append(visits[c-2][j-1000])\n",
    "                if visits[c-1][i] in t3:\n",
    "                    t3.remove(visits[c-1][i])\n",
    "                if len(t3)>0:\n",
    "                    t4 = random.randint(0, len(t3)-1)\n",
    "                    t5 = t3[t4]\n",
    "                    visits[c][i] = t5\n",
    "                    g[c].add_edge(bees[i], t5)\n",
    "                else:\n",
    "                    control = 1\n",
    "            else:\n",
    "                control = 1\n",
    "            if control == 1:\n",
    "                temp1 = [j for j in range(num_flowers)]\n",
    "                temp1.remove(visits[c-1][i])\n",
    "                temp2 = random.randint(0,num_flowers-2)\n",
    "                temp3 = temp1[temp2]\n",
    "                visits[c][i] = temp3\n",
    "                g[c].add_edge(bees[i], temp3)\n",
    "    return g"
   ]
  },
  {
   "cell_type": "code",
   "execution_count": 273,
   "id": "4a99bf9f-c31f-4fb0-b11d-34dcecdb9557",
   "metadata": {},
   "outputs": [],
   "source": [
    "##### Summing up temporal information from time-steps in the history ordering by time\n",
    "##### We use the idea of \"Link Prediction on Evolving Data using Matrix and Tensor Factorizations\" for time ordered summation\n",
    "##### x: summation adjacency matrix\n",
    "##### z: to represent adjacency matrix of time-steps in the history\n",
    "##### consider t=1 as starting point of the history and T as the last (when goal is to predict T+1)\n",
    "##### the summation formula will be: x(i, j) = Sum(over t=1 -> T) (1 - teta)^(T - t) * z_t(i, j)\n",
    "def adj_mat(g, num_graphs, history, all_nodes, num_bees, num_flowers):\n",
    "    t_final = num_graphs - 1 ### index of the last time-step (predition target)\n",
    "    history_ind = [] ### to store odd/ even indices\n",
    "    for i in range(history):\n",
    "        ind = (i+1)*2\n",
    "        history_ind.append(t_final-ind)\n",
    "\n",
    "    adj = [] ### to store adjacency matrices of history\n",
    "    for i in range(len(history_ind)):\n",
    "        adj.append(nx.adjacency_matrix(g[history_ind[i]]))\n",
    "    \n",
    "    adj_arr = [] ### turn adjacency matrices to array\n",
    "    for i in adj:\n",
    "        adj_arr.append(i.toarray())\n",
    "    \n",
    "    ##### time-ordered summation\n",
    "    overal_adj = [[0 for i in range(all_nodes)] for j in range(all_nodes)]\n",
    "    for i in range(len(history_ind)):\n",
    "        coef = (1 - teta)**(t_final-1-history_ind[i])\n",
    "        overal_adj = overal_adj + coef * adj_arr[i]\n",
    "    return overal_adj"
   ]
  },
  {
   "cell_type": "code",
   "execution_count": 274,
   "id": "44f79fe9-683a-4126-a942-3fd67d5a60b6",
   "metadata": {},
   "outputs": [],
   "source": [
    "##### Low-rank representation, we only consider up-left part as it includes all the information (bee nodes)\n",
    "def low_rep(overal_adj, num_bees):    \n",
    "    bee = overal_adj[:num_bees, num_bees:]\n",
    "    r = matrix_rank(bee) ### getting rank of the matrix\n",
    "\n",
    "    u, s, v = np.linalg.svd(bee, full_matrices=False) ### SVD decomposition\n",
    "    low_bee = low_rank_approx((u, s, v), r = r)\n",
    "    return low_bee"
   ]
  },
  {
   "cell_type": "code",
   "execution_count": 275,
   "id": "0e6850c7-4855-45fb-a104-8f6630e67eb7",
   "metadata": {},
   "outputs": [],
   "source": [
    "##### last time-step as test\n",
    "def test_g(g, num_bees):\n",
    "    test = nx.adjacency_matrix(g[-1])\n",
    "    test = test.toarray()\n",
    "    test = test[:num_bees, num_bees:]\n",
    "    return test"
   ]
  },
  {
   "cell_type": "code",
   "execution_count": 276,
   "id": "e739ffa7-8872-4e3f-b468-796bcd5b04ea",
   "metadata": {},
   "outputs": [],
   "source": [
    "##### getting prediction based on the maximum value in low-rank representation of the summation matrix\n",
    "def prediction(num_bees, num_flowers, low_bee):\n",
    "    pred = [[0 for i in range(num_flowers)] for j in range(num_bees)]\n",
    "    for i in range(num_bees):\n",
    "        max_index = np.argmax(low_bee[i])\n",
    "        pred[i][max_index] = 1\n",
    "    pred = np.array(pred)\n",
    "    return pred"
   ]
  },
  {
   "cell_type": "code",
   "execution_count": 277,
   "id": "a828be9c-7c45-456e-bf09-54fa2d8bfa11",
   "metadata": {},
   "outputs": [],
   "source": [
    "def res(test, pred):\n",
    "    test = test.flatten()\n",
    "    pred = pred.flatten()\n",
    "    print(roc_auc_score(test, pred))"
   ]
  },
  {
   "cell_type": "code",
   "execution_count": 278,
   "id": "a70071a1-7487-4d40-8994-2f818e4fe2e4",
   "metadata": {},
   "outputs": [],
   "source": [
    "num_graphs = 30\n",
    "num_bees = 64\n",
    "num_flowers = 16\n",
    "history = 3\n",
    "all_nodes = num_bees + num_flowers\n",
    "teta = 0.3\n",
    "def link_prediction(num_graphs = 30, num_bees = 64, num_flowers = 16, history = 3, teta = 0.3):\n",
    "    all_nodes = num_bees + num_flowers\n",
    "    g = graph_cons(num_bees, num_flowers, num_graphs)\n",
    "    overal_adj = adj_mat(g, num_graphs, history, all_nodes, num_bees, num_flowers)\n",
    "    low_bee = low_rep(overal_adj, num_bees)\n",
    "    test = test_g(g, num_bees)\n",
    "    pred = prediction(num_bees, num_flowers, low_bee)\n",
    "    res(test, pred)"
   ]
  },
  {
   "cell_type": "code",
   "execution_count": 294,
   "id": "05b6d829-8d42-442c-9409-5c115bd27fb3",
   "metadata": {},
   "outputs": [
    {
     "name": "stdout",
     "output_type": "stream",
     "text": [
      "0.9270833333333333\n"
     ]
    }
   ],
   "source": [
    "link_prediction(num_graphs = 30, num_bees = 64, num_flowers = 4, history = 3, teta = 0.3)"
   ]
  },
  {
   "cell_type": "code",
   "execution_count": 295,
   "id": "1b3dfd68-8ce3-443a-a51d-a198c275707a",
   "metadata": {},
   "outputs": [
    {
     "name": "stdout",
     "output_type": "stream",
     "text": [
      "0.9464285714285714\n"
     ]
    }
   ],
   "source": [
    "link_prediction(num_graphs = 30, num_bees = 64, num_flowers = 8, history = 3, teta = 0.3)"
   ]
  },
  {
   "cell_type": "code",
   "execution_count": 296,
   "id": "8f746b7a-499a-4001-a15d-85b2cfe89316",
   "metadata": {},
   "outputs": [
    {
     "name": "stdout",
     "output_type": "stream",
     "text": [
      "0.9583333333333334\n"
     ]
    }
   ],
   "source": [
    "link_prediction(num_graphs = 30, num_bees = 64, num_flowers = 16, history = 3, teta = 0.3)"
   ]
  },
  {
   "cell_type": "code",
   "execution_count": 298,
   "id": "054121b1-d7aa-4a27-a569-4e7c552a9a82",
   "metadata": {},
   "outputs": [
    {
     "name": "stdout",
     "output_type": "stream",
     "text": [
      "0.9838709677419355\n"
     ]
    }
   ],
   "source": [
    "link_prediction(num_graphs = 30, num_bees = 64, num_flowers = 32, history = 3, teta = 0.3)"
   ]
  },
  {
   "cell_type": "code",
   "execution_count": 299,
   "id": "ffc2f138-8b85-4e0d-a919-c29a8465d853",
   "metadata": {},
   "outputs": [
    {
     "name": "stdout",
     "output_type": "stream",
     "text": [
      "0.9206349206349206\n"
     ]
    }
   ],
   "source": [
    "link_prediction(num_graphs = 30, num_bees = 64, num_flowers = 64, history = 3, teta = 0.3)"
   ]
  },
  {
   "cell_type": "code",
   "execution_count": 300,
   "id": "e856e75a-fe08-4a10-ad24-ddbc2e70c8c8",
   "metadata": {},
   "outputs": [
    {
     "name": "stdout",
     "output_type": "stream",
     "text": [
      "0.9666666666666667\n"
     ]
    }
   ],
   "source": [
    "link_prediction(num_graphs = 30, num_bees = 64, num_flowers = 16, history = 1, teta = 0.3)"
   ]
  },
  {
   "cell_type": "code",
   "execution_count": 302,
   "id": "c00e9f7b-0fd3-4d60-bb17-3349b47f3d25",
   "metadata": {},
   "outputs": [
    {
     "name": "stdout",
     "output_type": "stream",
     "text": [
      "0.9916666666666666\n"
     ]
    }
   ],
   "source": [
    "link_prediction(num_graphs = 30, num_bees = 64, num_flowers = 16, history = 2, teta = 0.3)"
   ]
  },
  {
   "cell_type": "code",
   "execution_count": 303,
   "id": "017072ba-826a-451d-8ed9-2455284e1c1a",
   "metadata": {},
   "outputs": [
    {
     "name": "stdout",
     "output_type": "stream",
     "text": [
      "0.9249999999999999\n"
     ]
    }
   ],
   "source": [
    "link_prediction(num_graphs = 30, num_bees = 64, num_flowers = 16, history = 3, teta = 0.3)"
   ]
  },
  {
   "cell_type": "code",
   "execution_count": 305,
   "id": "b1ae87d9-76a3-4058-9e90-4c9e492eb687",
   "metadata": {},
   "outputs": [
    {
     "name": "stdout",
     "output_type": "stream",
     "text": [
      "0.9583333333333334\n"
     ]
    }
   ],
   "source": [
    "link_prediction(num_graphs = 30, num_bees = 64, num_flowers = 16, history = 4, teta = 0.3)"
   ]
  },
  {
   "cell_type": "code",
   "execution_count": null,
   "id": "1564d4cb-213b-4779-9747-1ce35d13ca34",
   "metadata": {},
   "outputs": [],
   "source": []
  }
 ],
 "metadata": {
  "kernelspec": {
   "display_name": "Python 3",
   "language": "python",
   "name": "python3"
  },
  "language_info": {
   "codemirror_mode": {
    "name": "ipython",
    "version": 3
   },
   "file_extension": ".py",
   "mimetype": "text/x-python",
   "name": "python",
   "nbconvert_exporter": "python",
   "pygments_lexer": "ipython3",
   "version": "3.8.8"
  }
 },
 "nbformat": 4,
 "nbformat_minor": 5
}
